{
 "cells": [
  {
   "cell_type": "markdown",
   "id": "a9cded9e-a297-466f-a7ee-9a63aa6984a1",
   "metadata": {},
   "source": [
    "# Project Name "
   ]
  },
  {
   "cell_type": "markdown",
   "id": "ecdee41d-0882-412d-b012-0ced73c3057e",
   "metadata": {},
   "source": [
    "**Author:** Allison Elmore \n",
    "**Last Modified:** 11-17-2024 (created:11-17-2024) \n",
    "\n",
    "**Description:** Short paragraph explaining this project. "
   ]
  },
  {
   "cell_type": "markdown",
   "id": "bc35c608-391f-469f-816c-9726ef3933b0",
   "metadata": {},
   "source": [
    "<br> "
   ]
  },
  {
   "cell_type": "raw",
   "id": "55cb0395-677b-4021-8cb5-f8d0393eae19",
   "metadata": {},
   "source": [
    "Import Libraries: "
   ]
  },
  {
   "cell_type": "code",
   "execution_count": 8,
   "id": "046c7564-2129-4e3f-a11e-e40ce65210f6",
   "metadata": {},
   "outputs": [],
   "source": [
    "import pandas as pd "
   ]
  },
  {
   "cell_type": "markdown",
   "id": "140ff4bf-82b5-4a4b-a294-a88f0fdcdf99",
   "metadata": {},
   "source": [
    "<br>"
   ]
  },
  {
   "cell_type": "markdown",
   "id": "d186ec30-8dbd-4944-9bcf-b9e4c2feb58c",
   "metadata": {},
   "source": [
    "Load Data: "
   ]
  },
  {
   "cell_type": "code",
   "execution_count": null,
   "id": "be4a3741-de06-4ecb-a832-f614d29ee63b",
   "metadata": {},
   "outputs": [],
   "source": [
    "# code to read csv file "
   ]
  },
  {
   "cell_type": "code",
   "execution_count": null,
   "id": "ceaeb2a2-0e54-4498-80fe-c1b2637bf9ab",
   "metadata": {},
   "outputs": [],
   "source": [
    "# code to create csv file "
   ]
  }
 ],
 "metadata": {
  "kernelspec": {
   "display_name": "Python 3 (ipykernel)",
   "language": "python",
   "name": "python3"
  },
  "language_info": {
   "codemirror_mode": {
    "name": "ipython",
    "version": 3
   },
   "file_extension": ".py",
   "mimetype": "text/x-python",
   "name": "python",
   "nbconvert_exporter": "python",
   "pygments_lexer": "ipython3",
   "version": "3.12.2"
  }
 },
 "nbformat": 4,
 "nbformat_minor": 5
}
